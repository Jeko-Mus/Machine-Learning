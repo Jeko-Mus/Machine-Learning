{
 "cells": [
  {
   "cell_type": "code",
   "execution_count": 1,
   "metadata": {},
   "outputs": [],
   "source": [
    "import pandas as pd\n",
    "from sklearn.preprocessing import OrdinalEncoder\n",
    "from sklearn.model_selection import train_test_split\n",
    "from sklearn.compose import ColumnTransformer\n"
   ]
  },
  {
   "cell_type": "code",
   "execution_count": 43,
   "metadata": {},
   "outputs": [],
   "source": [
    "def get_data(pth):\n",
    "    \n",
    "    data = pd.read_csv(pth)\n",
    "\n",
    "    x_train, x_test, y_train, y_test = train_test_split(data.values[:,:-1], data.values[:,-1], test_size=0.2, random_state = 0)\n",
    "\n",
    "    ct = ColumnTransformer( [('ordinal', OrdinalEncoder(handle_unknown= 'use_encoded_value', unknown_value = -1), [1,4,5] )] )\n",
    "\n",
    "    x_train = ct.fit_transform(x_train)\n",
    "    x_test = ct.transform(x_test)\n",
    "    y_train=y_train.astype('int')\n",
    "    y_test =y_test.astype('int')\n",
    "\n",
    "    return x_train, x_test, y_train, y_test"
   ]
  },
  {
   "cell_type": "code",
   "execution_count": 45,
   "metadata": {},
   "outputs": [],
   "source": [
    "def get_data2(pth):\n",
    "    \n",
    "    data = pd.read_csv(pth)\n",
    "\n",
    "    x_train, x_test, y_train, y_test = train_test_split(data.values[:,:-1], data.values[:,-1], test_size=0.2, random_state = 0)\n",
    "\n",
    "    ct = ColumnTransformer( [('ordinal', OrdinalEncoder(handle_unknown= 'use_encoded_value', unknown_value = -1), [1,4,5] )] )\n",
    "\n",
    "    x_train = ct.fit_transform(x_train)\n",
    "    x_test = ct.transform(x_test)\n",
    "    y_train=y_train.astype('int')\n",
    "    y_test =y_test.astype('int')\n",
    "\n",
    "    return x_train, x_test, y_train, y_test"
   ]
  },
  {
   "cell_type": "code",
   "execution_count": 38,
   "metadata": {},
   "outputs": [],
   "source": [
    "train_test_values = get_data2('insurance.csv') # first column is x_train, second is x_test etc"
   ]
  },
  {
   "cell_type": "code",
   "execution_count": 42,
   "metadata": {},
   "outputs": [
    {
     "data": {
      "text/plain": [
       "array([ 9724.53    ,  8547.6913  , 45702.02235 , 12950.0712  ,\n",
       "        9644.2525  ,  4500.33925 ,  2198.18985 , 11436.73815 ,\n",
       "        7537.1639  ,  5425.02335 ,  6753.038   , 10493.9458  ,\n",
       "        7337.748   ,  4185.0979  , 18310.742   , 10702.6424  ,\n",
       "       12523.6048  ,  3490.5491  ,  6457.8434  , 33475.81715 ,\n",
       "       23967.38305 , 12643.3778  , 23045.56616 , 23065.4207  ,\n",
       "        1674.6323  ,  4667.60765 ,  3732.6251  ,  7682.67    ,\n",
       "        3756.6216  ,  8413.46305 ,  8059.6791  , 48970.2476  ,\n",
       "       12979.358   , 20630.28351 , 14571.8908  ,  4137.5227  ,\n",
       "        8347.1643  , 51194.55914 , 40003.33225 ,  1880.487   ,\n",
       "        5458.04645 ,  2867.1196  , 20149.3229  , 47496.49445 ,\n",
       "       36149.4835  , 26018.95052 , 19749.38338 ,  6940.90985 ,\n",
       "        4718.20355 , 22192.43711 ,  2899.48935 , 18838.70366 ,\n",
       "       23568.272   , 46255.1125  , 24227.33724 ,  3268.84665 ,\n",
       "        2322.6218  ,  8827.2099  , 14478.33015 , 13112.6048  ,\n",
       "        1253.936   , 46718.16325 , 13919.8229  ,  9630.397   ,\n",
       "       10736.87075 ,  9880.068   , 32548.3405  , 38746.3551  ,\n",
       "        3180.5101  ,  8162.71625 , 13041.921   , 11554.2236  ,\n",
       "       16232.847   , 13887.9685  , 13012.20865 , 13217.0945  ,\n",
       "        7147.105   ,  7731.4271  , 20296.86345 , 47403.88    ,\n",
       "       11658.37915 , 45863.205   ,  2055.3249  ,  7441.053   ,\n",
       "       41034.2214  , 18972.495   ,  3410.324   ,  2699.56835 ,\n",
       "       12333.828   , 36837.467   ,  6334.34355 , 10214.636   ,\n",
       "       17878.90068 ,  8515.7587  ,  4518.82625 ,  5148.5526  ,\n",
       "       42303.69215 , 38998.546   ,  5327.40025 , 10602.385   ,\n",
       "        1824.2854  ,  5377.4578  ,  4349.462   , 37742.5757  ,\n",
       "       32787.45859 ,  3353.4703  , 10577.087   ,  3556.9223  ,\n",
       "       11944.59435 , 52590.82939 , 12475.3513  ,  4266.1658  ,\n",
       "        9249.4952  , 33732.6867  , 48675.5177  ,  7729.64575 ,\n",
       "        1964.78    ,  8444.474   , 12347.172   ,  9301.89355 ,\n",
       "       42124.5153  ,  9991.03765 , 14319.031   ,  5428.7277  ,\n",
       "        7626.993   ,  4906.40965 , 23401.30575 , 21098.55405 ,\n",
       "       48173.361   ,  1917.3184  ,  8219.2039  ,  1725.5523  ,\n",
       "        5976.8311  ,  9361.3268  , 22144.032   , 35491.64    ,\n",
       "       19515.5416  , 10107.2206  , 23244.7902  ,  2789.0574  ,\n",
       "        2261.5688  , 10594.50155 ,  9304.7019  , 10435.06525 ,\n",
       "        4894.7533  , 14313.8463  , 28287.89766 , 14426.07385 ,\n",
       "        1627.28245 , 25517.11363 ,  6555.07035 , 39611.7577  ,\n",
       "        9964.06    ,  1720.3537  ,  2730.10785 ,  6500.2359  ,\n",
       "        2643.2685  ,  1719.4363  , 11085.5868  , 10115.00885 ,\n",
       "        4846.92015 , 12982.8747  , 28923.13692 ,  9391.346   ,\n",
       "        4544.2348  , 17128.42608 , 13844.506   ,  6113.23105 ,\n",
       "        4441.21315 ,  1633.9618  ,  4058.71245 ,  4435.0942  ,\n",
       "        8310.83915 ,  1986.9334  ,  4260.744   ,  4504.6624  ,\n",
       "        4428.88785 ,  6117.4945  , 30184.9367  ,  1708.92575 ,\n",
       "       11187.6567  ,  6796.86325 , 11356.6609  ,  2498.4144  ,\n",
       "       27375.90478 , 28101.33305 ,  2254.7967  ,  2597.779   ,\n",
       "       14692.66935 , 10370.91255 , 41097.16175 ,  3981.9768  ,\n",
       "        5472.449   , 21223.6758  ,  2534.39375 ,  1972.95    ,\n",
       "        6406.4107  ,  6551.7501  ,  4058.1161  ,  4243.59005 ,\n",
       "       11512.405   , 46889.2612  , 12268.63225 , 19199.944   ,\n",
       "        4433.3877  , 42969.8527  , 23241.47453 ,  9140.951   ,\n",
       "        5836.5204  ,  1149.3959  ,  8765.249   , 14043.4767  ,\n",
       "        5312.16985 , 10795.93733 ,  6282.235   ,  1969.614   ,\n",
       "        6746.7425  ,  5354.07465 , 14001.2867  ,  6877.9801  ,\n",
       "        6196.448   ,  7986.47525 ,  8277.523   ,  3206.49135 ,\n",
       "       11848.141   , 14210.53595 , 12265.5069  , 11837.16    ,\n",
       "        6652.5288  ,  2137.6536  ,  1131.5066  ,  8342.90875 ,\n",
       "       12244.531   ,  4561.1885  , 17626.23951 ,  6875.961   ,\n",
       "        9447.3824  , 34254.05335 ,  6067.12675 , 11729.6795  ,\n",
       "        5383.536   , 37465.34375 ,  7371.772   ,  7325.0482  ,\n",
       "        8410.04685 , 10461.9794  ,  3279.86855 ,  7727.2532  ,\n",
       "        2731.9122  ,  6858.4796  , 19521.9682  , 47305.305   ,\n",
       "        3987.926   ,  3238.4357  ,  7323.734819,  1704.5681  ,\n",
       "        7445.918   ,  1629.8335  ,  4877.98105 ,  3561.8889  ,\n",
       "        8605.3615  , 24520.264   , 45710.20785 , 15019.76005 ,\n",
       "        6664.68595 , 20709.02034 , 40932.4295  ,  9500.57305 ])"
      ]
     },
     "execution_count": 42,
     "metadata": {},
     "output_type": "execute_result"
    }
   ],
   "source": [
    "train_test_values[3]"
   ]
  },
  {
   "cell_type": "markdown",
   "metadata": {},
   "source": [
    "### Decision Tree"
   ]
  },
  {
   "cell_type": "code",
   "execution_count": 44,
   "metadata": {},
   "outputs": [
    {
     "ename": "ValueError",
     "evalue": "Unknown label type: 'continuous'",
     "output_type": "error",
     "traceback": [
      "\u001b[1;31m---------------------------------------------------------------------------\u001b[0m",
      "\u001b[1;31mValueError\u001b[0m                                Traceback (most recent call last)",
      "\u001b[1;32mc:\\Users\\rujek\\Documents\\GitHub\\Machine-Learning\\Week_Chapters\\07. Gradient Boosting and Encoding\\test.ipynb Cell 7'\u001b[0m in \u001b[0;36m<module>\u001b[1;34m\u001b[0m\n\u001b[0;32m      <a href='vscode-notebook-cell:/c%3A/Users/rujek/Documents/GitHub/Machine-Learning/Week_Chapters/07.%20Gradient%20Boosting%20and%20Encoding/test.ipynb#ch0000008?line=2'>3</a>\u001b[0m dt_clf \u001b[39m=\u001b[39m DecisionTreeClassifier(random_state\u001b[39m=\u001b[39m\u001b[39m42\u001b[39m)\n\u001b[0;32m      <a href='vscode-notebook-cell:/c%3A/Users/rujek/Documents/GitHub/Machine-Learning/Week_Chapters/07.%20Gradient%20Boosting%20and%20Encoding/test.ipynb#ch0000008?line=3'>4</a>\u001b[0m \u001b[39m#dt_clf = dt_clf.fit(X_train,y_train)\u001b[39;00m\n\u001b[1;32m----> <a href='vscode-notebook-cell:/c%3A/Users/rujek/Documents/GitHub/Machine-Learning/Week_Chapters/07.%20Gradient%20Boosting%20and%20Encoding/test.ipynb#ch0000008?line=4'>5</a>\u001b[0m dt_clf \u001b[39m=\u001b[39m dt_clf\u001b[39m.\u001b[39;49mfit(train_test_values[\u001b[39m0\u001b[39;49m],train_test_values[\u001b[39m2\u001b[39;49m])\n\u001b[0;32m      <a href='vscode-notebook-cell:/c%3A/Users/rujek/Documents/GitHub/Machine-Learning/Week_Chapters/07.%20Gradient%20Boosting%20and%20Encoding/test.ipynb#ch0000008?line=5'>6</a>\u001b[0m \u001b[39m#dt_clf.score(x_test, y_test)\u001b[39;00m\n\u001b[0;32m      <a href='vscode-notebook-cell:/c%3A/Users/rujek/Documents/GitHub/Machine-Learning/Week_Chapters/07.%20Gradient%20Boosting%20and%20Encoding/test.ipynb#ch0000008?line=6'>7</a>\u001b[0m \u001b[39m#dt_clf.score(train_test_values[1],train_test_values[3])\u001b[39;00m\n\u001b[0;32m      <a href='vscode-notebook-cell:/c%3A/Users/rujek/Documents/GitHub/Machine-Learning/Week_Chapters/07.%20Gradient%20Boosting%20and%20Encoding/test.ipynb#ch0000008?line=7'>8</a>\u001b[0m dt_clf\n",
      "File \u001b[1;32m~\\Anaconda3\\envs\\strive\\lib\\site-packages\\sklearn\\tree\\_classes.py:898\u001b[0m, in \u001b[0;36mDecisionTreeClassifier.fit\u001b[1;34m(self, X, y, sample_weight, check_input, X_idx_sorted)\u001b[0m\n\u001b[0;32m    <a href='file:///c%3A/Users/rujek/Anaconda3/envs/strive/lib/site-packages/sklearn/tree/_classes.py?line=860'>861</a>\u001b[0m \u001b[39mdef\u001b[39;00m \u001b[39mfit\u001b[39m(\u001b[39mself\u001b[39m, X, y, sample_weight\u001b[39m=\u001b[39m\u001b[39mNone\u001b[39;00m, check_input\u001b[39m=\u001b[39m\u001b[39mTrue\u001b[39;00m,\n\u001b[0;32m    <a href='file:///c%3A/Users/rujek/Anaconda3/envs/strive/lib/site-packages/sklearn/tree/_classes.py?line=861'>862</a>\u001b[0m         X_idx_sorted\u001b[39m=\u001b[39m\u001b[39m\"\u001b[39m\u001b[39mdeprecated\u001b[39m\u001b[39m\"\u001b[39m):\n\u001b[0;32m    <a href='file:///c%3A/Users/rujek/Anaconda3/envs/strive/lib/site-packages/sklearn/tree/_classes.py?line=862'>863</a>\u001b[0m     \u001b[39m\"\"\"Build a decision tree classifier from the training set (X, y).\u001b[39;00m\n\u001b[0;32m    <a href='file:///c%3A/Users/rujek/Anaconda3/envs/strive/lib/site-packages/sklearn/tree/_classes.py?line=863'>864</a>\u001b[0m \n\u001b[0;32m    <a href='file:///c%3A/Users/rujek/Anaconda3/envs/strive/lib/site-packages/sklearn/tree/_classes.py?line=864'>865</a>\u001b[0m \u001b[39m    Parameters\u001b[39;00m\n\u001b[1;32m   (...)\u001b[0m\n\u001b[0;32m    <a href='file:///c%3A/Users/rujek/Anaconda3/envs/strive/lib/site-packages/sklearn/tree/_classes.py?line=894'>895</a>\u001b[0m \u001b[39m        Fitted estimator.\u001b[39;00m\n\u001b[0;32m    <a href='file:///c%3A/Users/rujek/Anaconda3/envs/strive/lib/site-packages/sklearn/tree/_classes.py?line=895'>896</a>\u001b[0m \u001b[39m    \"\"\"\u001b[39;00m\n\u001b[1;32m--> <a href='file:///c%3A/Users/rujek/Anaconda3/envs/strive/lib/site-packages/sklearn/tree/_classes.py?line=897'>898</a>\u001b[0m     \u001b[39msuper\u001b[39;49m()\u001b[39m.\u001b[39;49mfit(\n\u001b[0;32m    <a href='file:///c%3A/Users/rujek/Anaconda3/envs/strive/lib/site-packages/sklearn/tree/_classes.py?line=898'>899</a>\u001b[0m         X, y,\n\u001b[0;32m    <a href='file:///c%3A/Users/rujek/Anaconda3/envs/strive/lib/site-packages/sklearn/tree/_classes.py?line=899'>900</a>\u001b[0m         sample_weight\u001b[39m=\u001b[39;49msample_weight,\n\u001b[0;32m    <a href='file:///c%3A/Users/rujek/Anaconda3/envs/strive/lib/site-packages/sklearn/tree/_classes.py?line=900'>901</a>\u001b[0m         check_input\u001b[39m=\u001b[39;49mcheck_input,\n\u001b[0;32m    <a href='file:///c%3A/Users/rujek/Anaconda3/envs/strive/lib/site-packages/sklearn/tree/_classes.py?line=901'>902</a>\u001b[0m         X_idx_sorted\u001b[39m=\u001b[39;49mX_idx_sorted)\n\u001b[0;32m    <a href='file:///c%3A/Users/rujek/Anaconda3/envs/strive/lib/site-packages/sklearn/tree/_classes.py?line=902'>903</a>\u001b[0m     \u001b[39mreturn\u001b[39;00m \u001b[39mself\u001b[39m\n",
      "File \u001b[1;32m~\\Anaconda3\\envs\\strive\\lib\\site-packages\\sklearn\\tree\\_classes.py:190\u001b[0m, in \u001b[0;36mBaseDecisionTree.fit\u001b[1;34m(self, X, y, sample_weight, check_input, X_idx_sorted)\u001b[0m\n\u001b[0;32m    <a href='file:///c%3A/Users/rujek/Anaconda3/envs/strive/lib/site-packages/sklearn/tree/_classes.py?line=186'>187</a>\u001b[0m \u001b[39mself\u001b[39m\u001b[39m.\u001b[39mn_outputs_ \u001b[39m=\u001b[39m y\u001b[39m.\u001b[39mshape[\u001b[39m1\u001b[39m]\n\u001b[0;32m    <a href='file:///c%3A/Users/rujek/Anaconda3/envs/strive/lib/site-packages/sklearn/tree/_classes.py?line=188'>189</a>\u001b[0m \u001b[39mif\u001b[39;00m is_classification:\n\u001b[1;32m--> <a href='file:///c%3A/Users/rujek/Anaconda3/envs/strive/lib/site-packages/sklearn/tree/_classes.py?line=189'>190</a>\u001b[0m     check_classification_targets(y)\n\u001b[0;32m    <a href='file:///c%3A/Users/rujek/Anaconda3/envs/strive/lib/site-packages/sklearn/tree/_classes.py?line=190'>191</a>\u001b[0m     y \u001b[39m=\u001b[39m np\u001b[39m.\u001b[39mcopy(y)\n\u001b[0;32m    <a href='file:///c%3A/Users/rujek/Anaconda3/envs/strive/lib/site-packages/sklearn/tree/_classes.py?line=192'>193</a>\u001b[0m     \u001b[39mself\u001b[39m\u001b[39m.\u001b[39mclasses_ \u001b[39m=\u001b[39m []\n",
      "File \u001b[1;32m~\\Anaconda3\\envs\\strive\\lib\\site-packages\\sklearn\\utils\\multiclass.py:183\u001b[0m, in \u001b[0;36mcheck_classification_targets\u001b[1;34m(y)\u001b[0m\n\u001b[0;32m    <a href='file:///c%3A/Users/rujek/Anaconda3/envs/strive/lib/site-packages/sklearn/utils/multiclass.py?line=179'>180</a>\u001b[0m y_type \u001b[39m=\u001b[39m type_of_target(y)\n\u001b[0;32m    <a href='file:///c%3A/Users/rujek/Anaconda3/envs/strive/lib/site-packages/sklearn/utils/multiclass.py?line=180'>181</a>\u001b[0m \u001b[39mif\u001b[39;00m y_type \u001b[39mnot\u001b[39;00m \u001b[39min\u001b[39;00m [\u001b[39m'\u001b[39m\u001b[39mbinary\u001b[39m\u001b[39m'\u001b[39m, \u001b[39m'\u001b[39m\u001b[39mmulticlass\u001b[39m\u001b[39m'\u001b[39m, \u001b[39m'\u001b[39m\u001b[39mmulticlass-multioutput\u001b[39m\u001b[39m'\u001b[39m,\n\u001b[0;32m    <a href='file:///c%3A/Users/rujek/Anaconda3/envs/strive/lib/site-packages/sklearn/utils/multiclass.py?line=181'>182</a>\u001b[0m                   \u001b[39m'\u001b[39m\u001b[39mmultilabel-indicator\u001b[39m\u001b[39m'\u001b[39m, \u001b[39m'\u001b[39m\u001b[39mmultilabel-sequences\u001b[39m\u001b[39m'\u001b[39m]:\n\u001b[1;32m--> <a href='file:///c%3A/Users/rujek/Anaconda3/envs/strive/lib/site-packages/sklearn/utils/multiclass.py?line=182'>183</a>\u001b[0m     \u001b[39mraise\u001b[39;00m \u001b[39mValueError\u001b[39;00m(\u001b[39m\"\u001b[39m\u001b[39mUnknown label type: \u001b[39m\u001b[39m%r\u001b[39;00m\u001b[39m\"\u001b[39m \u001b[39m%\u001b[39m y_type)\n",
      "\u001b[1;31mValueError\u001b[0m: Unknown label type: 'continuous'"
     ]
    }
   ],
   "source": [
    "from sklearn.tree import DecisionTreeClassifier\n",
    "\n",
    "dt_clf = DecisionTreeClassifier(random_state=42)\n",
    "#dt_clf = dt_clf.fit(X_train,y_train)\n",
    "dt_clf = dt_clf.fit(train_test_values[0],train_test_values[2])\n",
    "#dt_clf.score(x_test, y_test)\n",
    "#dt_clf.score(train_test_values[1],train_test_values[3])\n",
    "dt_clf"
   ]
  },
  {
   "cell_type": "code",
   "execution_count": 33,
   "metadata": {},
   "outputs": [],
   "source": [
    "y_pred = dt_clf.predict(train_test_values[1])"
   ]
  },
  {
   "cell_type": "markdown",
   "metadata": {},
   "source": [
    "### Random Forest"
   ]
  },
  {
   "cell_type": "code",
   "execution_count": 35,
   "metadata": {},
   "outputs": [
    {
     "data": {
      "text/plain": [
       "0.0"
      ]
     },
     "execution_count": 35,
     "metadata": {},
     "output_type": "execute_result"
    }
   ],
   "source": [
    "from sklearn.ensemble import RandomForestClassifier\n",
    "\n",
    "clf = RandomForestClassifier(n_estimators=300, max_depth=5, random_state=0)\n",
    "#clf.fit(X_train, y_train)\n",
    "#clf.score(x_test, y_test)\n",
    "clf = clf.fit(train_test_values[0],train_test_values[2])\n",
    "clf.score(train_test_values[1],train_test_values[3])\n"
   ]
  },
  {
   "cell_type": "markdown",
   "metadata": {},
   "source": [
    "### Light Boost"
   ]
  },
  {
   "cell_type": "code",
   "execution_count": null,
   "metadata": {},
   "outputs": [],
   "source": []
  }
 ],
 "metadata": {
  "interpreter": {
   "hash": "3d9dac11d33c8124df76be2d536cf81855f1e36a1c8ea739aa2eea81492656c9"
  },
  "kernelspec": {
   "display_name": "Python 3.8.12 ('strive')",
   "language": "python",
   "name": "python3"
  },
  "language_info": {
   "codemirror_mode": {
    "name": "ipython",
    "version": 3
   },
   "file_extension": ".py",
   "mimetype": "text/x-python",
   "name": "python",
   "nbconvert_exporter": "python",
   "pygments_lexer": "ipython3",
   "version": "3.8.12"
  },
  "orig_nbformat": 4
 },
 "nbformat": 4,
 "nbformat_minor": 2
}
