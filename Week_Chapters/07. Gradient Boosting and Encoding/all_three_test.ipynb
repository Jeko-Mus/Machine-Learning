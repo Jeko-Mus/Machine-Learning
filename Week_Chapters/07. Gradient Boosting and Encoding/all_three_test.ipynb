{
 "cells": [
  {
   "cell_type": "code",
   "execution_count": 1,
   "metadata": {},
   "outputs": [],
   "source": [
    "import pandas as pd\n",
    "from sklearn.preprocessing import OrdinalEncoder\n",
    "from sklearn.model_selection import train_test_split\n",
    "from sklearn.compose import ColumnTransformer\n"
   ]
  },
  {
   "cell_type": "code",
   "execution_count": 2,
   "metadata": {},
   "outputs": [],
   "source": [
    "def get_data(pth):\n",
    "    \n",
    "    data = pd.read_csv(pth)\n",
    "\n",
    "    x_train, x_test, y_train, y_test = train_test_split(data.values[:,:-1], data.values[:,-1], test_size=0.2, random_state = 0)\n",
    "\n",
    "    ct = ColumnTransformer( [('ordinal', OrdinalEncoder(handle_unknown= 'use_encoded_value', unknown_value = -1), [1,4,5] )] )\n",
    "\n",
    "    x_train = ct.fit_transform(x_train)\n",
    "    x_test = ct.transform(x_test)\n",
    "    y_train=y_train.astype('int')\n",
    "    y_test =y_test.astype('int')\n",
    "\n",
    "    return x_train, x_test, y_train, y_test"
   ]
  },
  {
   "cell_type": "code",
   "execution_count": 3,
   "metadata": {},
   "outputs": [
    {
     "data": {
      "text/plain": [
       "(1070, 3)"
      ]
     },
     "execution_count": 3,
     "metadata": {},
     "output_type": "execute_result"
    }
   ],
   "source": [
    "train_test_values = get_data('insurance.csv')\n",
    "train_test_values[0].shape"
   ]
  },
  {
   "cell_type": "code",
   "execution_count": 4,
   "metadata": {},
   "outputs": [],
   "source": [
    "def get_data2(pth):\n",
    "    \n",
    "    data = pd.read_csv(pth)\n",
    "\n",
    "    x_train, x_test, y_train, y_test = train_test_split(data.values[:,:-1], data.values[:,-1], test_size=0.2, random_state = 0)\n",
    "\n",
    "    ct = ColumnTransformer( [('ordinal', OrdinalEncoder(handle_unknown= 'use_encoded_value', unknown_value = -1), [1,4,5] )] )\n",
    "\n",
    "    x_train = ct.fit_transform(x_train)\n",
    "    x_test = ct.transform(x_test)\n",
    "    y_train=y_train.astype('int')\n",
    "    y_test =y_test.astype('int')\n",
    "\n",
    "    return x_train, x_test, y_train, y_test"
   ]
  },
  {
   "cell_type": "code",
   "execution_count": 5,
   "metadata": {},
   "outputs": [],
   "source": [
    "train_test_values = get_data2('insurance.csv') # first column is x_train, second is x_test etc"
   ]
  },
  {
   "cell_type": "code",
   "execution_count": 6,
   "metadata": {},
   "outputs": [
    {
     "data": {
      "text/plain": [
       "array([ 9724,  8547, 45702, 12950,  9644,  4500,  2198, 11436,  7537,\n",
       "        5425,  6753, 10493,  7337,  4185, 18310, 10702, 12523,  3490,\n",
       "        6457, 33475, 23967, 12643, 23045, 23065,  1674,  4667,  3732,\n",
       "        7682,  3756,  8413,  8059, 48970, 12979, 20630, 14571,  4137,\n",
       "        8347, 51194, 40003,  1880,  5458,  2867, 20149, 47496, 36149,\n",
       "       26018, 19749,  6940,  4718, 22192,  2899, 18838, 23568, 46255,\n",
       "       24227,  3268,  2322,  8827, 14478, 13112,  1253, 46718, 13919,\n",
       "        9630, 10736,  9880, 32548, 38746,  3180,  8162, 13041, 11554,\n",
       "       16232, 13887, 13012, 13217,  7147,  7731, 20296, 47403, 11658,\n",
       "       45863,  2055,  7441, 41034, 18972,  3410,  2699, 12333, 36837,\n",
       "        6334, 10214, 17878,  8515,  4518,  5148, 42303, 38998,  5327,\n",
       "       10602,  1824,  5377,  4349, 37742, 32787,  3353, 10577,  3556,\n",
       "       11944, 52590, 12475,  4266,  9249, 33732, 48675,  7729,  1964,\n",
       "        8444, 12347,  9301, 42124,  9991, 14319,  5428,  7626,  4906,\n",
       "       23401, 21098, 48173,  1917,  8219,  1725,  5976,  9361, 22144,\n",
       "       35491, 19515, 10107, 23244,  2789,  2261, 10594,  9304, 10435,\n",
       "        4894, 14313, 28287, 14426,  1627, 25517,  6555, 39611,  9964,\n",
       "        1720,  2730,  6500,  2643,  1719, 11085, 10115,  4846, 12982,\n",
       "       28923,  9391,  4544, 17128, 13844,  6113,  4441,  1633,  4058,\n",
       "        4435,  8310,  1986,  4260,  4504,  4428,  6117, 30184,  1708,\n",
       "       11187,  6796, 11356,  2498, 27375, 28101,  2254,  2597, 14692,\n",
       "       10370, 41097,  3981,  5472, 21223,  2534,  1972,  6406,  6551,\n",
       "        4058,  4243, 11512, 46889, 12268, 19199,  4433, 42969, 23241,\n",
       "        9140,  5836,  1149,  8765, 14043,  5312, 10795,  6282,  1969,\n",
       "        6746,  5354, 14001,  6877,  6196,  7986,  8277,  3206, 11848,\n",
       "       14210, 12265, 11837,  6652,  2137,  1131,  8342, 12244,  4561,\n",
       "       17626,  6875,  9447, 34254,  6067, 11729,  5383, 37465,  7371,\n",
       "        7325,  8410, 10461,  3279,  7727,  2731,  6858, 19521, 47305,\n",
       "        3987,  3238,  7323,  1704,  7445,  1629,  4877,  3561,  8605,\n",
       "       24520, 45710, 15019,  6664, 20709, 40932,  9500])"
      ]
     },
     "execution_count": 6,
     "metadata": {},
     "output_type": "execute_result"
    }
   ],
   "source": [
    "train_test_values[3]"
   ]
  },
  {
   "cell_type": "markdown",
   "metadata": {},
   "source": [
    "### Decision Tree"
   ]
  },
  {
   "cell_type": "code",
   "execution_count": 7,
   "metadata": {},
   "outputs": [
    {
     "data": {
      "text/plain": [
       "DecisionTreeClassifier(random_state=42)"
      ]
     },
     "execution_count": 7,
     "metadata": {},
     "output_type": "execute_result"
    }
   ],
   "source": [
    "from sklearn.tree import DecisionTreeClassifier\n",
    "\n",
    "dt_clf = DecisionTreeClassifier(random_state=42)\n",
    "#dt_clf = dt_clf.fit(X_train,y_train)\n",
    "dt_clf = dt_clf.fit(train_test_values[0],train_test_values[2])\n",
    "#dt_clf.score(x_test, y_test)\n",
    "#dt_clf.score(train_test_values[1],train_test_values[3])\n",
    "dt_clf"
   ]
  },
  {
   "cell_type": "code",
   "execution_count": 8,
   "metadata": {},
   "outputs": [],
   "source": [
    "y_pred = dt_clf.predict(train_test_values[1])"
   ]
  },
  {
   "cell_type": "markdown",
   "metadata": {},
   "source": [
    "### Random Forest"
   ]
  },
  {
   "cell_type": "code",
   "execution_count": 9,
   "metadata": {},
   "outputs": [
    {
     "data": {
      "text/plain": [
       "0.0"
      ]
     },
     "execution_count": 9,
     "metadata": {},
     "output_type": "execute_result"
    }
   ],
   "source": [
    "from sklearn.ensemble import RandomForestClassifier\n",
    "\n",
    "clf = RandomForestClassifier(n_estimators=300, max_depth=5, random_state=0)\n",
    "#clf.fit(X_train, y_train)\n",
    "#clf.score(x_test, y_test)\n",
    "clf = clf.fit(train_test_values[0],train_test_values[2])\n",
    "clf.score(train_test_values[1],train_test_values[3])\n"
   ]
  },
  {
   "cell_type": "markdown",
   "metadata": {},
   "source": [
    "### Light Boost"
   ]
  },
  {
   "cell_type": "code",
   "execution_count": 15,
   "metadata": {},
   "outputs": [
    {
     "data": {
      "text/plain": [
       "0.6639275153766424"
      ]
     },
     "execution_count": 15,
     "metadata": {},
     "output_type": "execute_result"
    }
   ],
   "source": [
    "import lightgbm as lgb\n",
    "from lightgbm import LGBMRegressor\n",
    "\n",
    "li_boost = LGBMRegressor()\n",
    "li_boost = li_boost.fit(train_test_values[0],train_test_values[2])\n",
    "li_boost.score(train_test_values[1],train_test_values[3])"
   ]
  }
 ],
 "metadata": {
  "interpreter": {
   "hash": "3d9dac11d33c8124df76be2d536cf81855f1e36a1c8ea739aa2eea81492656c9"
  },
  "kernelspec": {
   "display_name": "Python 3.8.12 ('strive')",
   "language": "python",
   "name": "python3"
  },
  "language_info": {
   "codemirror_mode": {
    "name": "ipython",
    "version": 3
   },
   "file_extension": ".py",
   "mimetype": "text/x-python",
   "name": "python",
   "nbconvert_exporter": "python",
   "pygments_lexer": "ipython3",
   "version": "3.8.12"
  },
  "orig_nbformat": 4
 },
 "nbformat": 4,
 "nbformat_minor": 2
}
